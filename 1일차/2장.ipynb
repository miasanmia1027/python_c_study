{
 "cells": [
  {
   "cell_type": "markdown",
   "id": "19770ead-e9c4-4f5f-b25c-32dcf1f9e19b",
   "metadata": {},
   "source": [
    "# 파이썬에 있는 자료형들\n",
    "- 숫자\n",
    "- 문자열\n",
    "- 리스트\n",
    "- 튜플\n",
    "- 딕셔너리\n",
    "- 집합\n",
    "- 불\n",
    "\n",
    "\n"
   ]
  },
  {
   "cell_type": "markdown",
   "id": "2760571b-5036-4ae6-80d5-7b409894a46b",
   "metadata": {},
   "source": [
    "# 숫자형 자료형\n",
    "### 정수형\n",
    "### 실수형\n",
    "### 8진수와 16진수\n",
    "- 이거는 짜치고 파이썬에서는 굳이\n",
    "\n",
    "\n"
   ]
  },
  {
   "cell_type": "markdown",
   "id": "7724d069",
   "metadata": {},
   "source": [
    "## 사칙연산"
   ]
  },
  {
   "cell_type": "code",
   "execution_count": 15,
   "id": "f89351e0-8158-4ae9-975f-6464df655dd5",
   "metadata": {},
   "outputs": [],
   "source": [
    "x = 10\n",
    "y = 2\n",
    "z = 6"
   ]
  },
  {
   "cell_type": "code",
   "execution_count": 16,
   "id": "501839b6-45d4-4c6b-885a-fdb8427a817e",
   "metadata": {},
   "outputs": [
    {
     "name": "stdout",
     "output_type": "stream",
     "text": [
      "12\n"
     ]
    }
   ],
   "source": [
    "# 덧샘\n",
    "print(x + y)"
   ]
  },
  {
   "cell_type": "code",
   "execution_count": 17,
   "id": "20512b06-643c-409f-8631-7cbdf71de666",
   "metadata": {},
   "outputs": [
    {
     "name": "stdout",
     "output_type": "stream",
     "text": [
      "8\n"
     ]
    }
   ],
   "source": [
    "# 뺴기 \n",
    "print(x - y)"
   ]
  },
  {
   "cell_type": "code",
   "execution_count": 18,
   "id": "f07a6418-f267-42d4-9b70-5ed266a38893",
   "metadata": {},
   "outputs": [
    {
     "name": "stdout",
     "output_type": "stream",
     "text": [
      "20\n",
      "100\n"
     ]
    }
   ],
   "source": [
    "# 곱하기\n",
    "print(x * y)\n",
    "# 제곱\n",
    "print(x ** y)"
   ]
  },
  {
   "cell_type": "code",
   "execution_count": 19,
   "id": "618ab15f-7eb4-48ea-ad68-55994036298c",
   "metadata": {},
   "outputs": [
    {
     "name": "stdout",
     "output_type": "stream",
     "text": [
      "1.6666666666666667\n",
      "1\n",
      "4\n"
     ]
    }
   ],
   "source": [
    "# 나누기\n",
    "print(x / z)\n",
    "# 정수만\n",
    "print(x // z)\n",
    "# 나머지\n",
    "print(x % z)"
   ]
  },
  {
   "cell_type": "markdown",
   "id": "528b5ebb",
   "metadata": {},
   "source": [
    "## 복합 연산자\n"
   ]
  },
  {
   "cell_type": "code",
   "execution_count": null,
   "id": "0cbe77d1-e0b6-41f9-aa97-85e802a7be43",
   "metadata": {},
   "outputs": [
    {
     "name": "stdout",
     "output_type": "stream",
     "text": [
      "6\n"
     ]
    }
   ],
   "source": [
    "a = 1\n",
    "a = a + 5\n",
    "print(a)"
   ]
  },
  {
   "cell_type": "markdown",
   "id": "e752815e",
   "metadata": {},
   "source": [
    "- 이렇게 a를 두번이나 사용을 하면 코드가 길어지고 가독성이 떨어진다\n",
    "- 그래서 사람들이 한번에 하는 코드를 만들었다"
   ]
  },
  {
   "cell_type": "code",
   "execution_count": 22,
   "id": "32eeb75f-3339-4a5b-84ee-d442d8cf8f9f",
   "metadata": {},
   "outputs": [
    {
     "name": "stdout",
     "output_type": "stream",
     "text": [
      "6\n"
     ]
    }
   ],
   "source": [
    "a = 1\n",
    "a += 5\n",
    "print(a)"
   ]
  },
  {
   "cell_type": "markdown",
   "id": "7486d253",
   "metadata": {},
   "source": [
    "### 복합 연산자 종류\n",
    "- +=\n",
    "- -=\n",
    "- *=\n",
    "- /=\n",
    "- //=\n",
    "- %=\n",
    "- **=\n",
    "##### 그냥 사칙 연산 뒤에 '=' 이게 붙었다고 생각을 하면 된다"
   ]
  },
  {
   "cell_type": "markdown",
   "id": "9528a00e",
   "metadata": {},
   "source": [
    "# 문자열(string) 자료형"
   ]
  },
  {
   "cell_type": "code",
   "execution_count": 27,
   "id": "a4ff1f37",
   "metadata": {},
   "outputs": [
    {
     "name": "stdout",
     "output_type": "stream",
     "text": [
      "hello world\n"
     ]
    }
   ],
   "source": [
    "text = \"hello world\"\n",
    "print(text)"
   ]
  },
  {
   "cell_type": "markdown",
   "id": "5a425dde",
   "metadata": {},
   "source": [
    "## 문자열 자료형의 종류\n",
    "- 작은 따옴표 == 'hello world'\n",
    "- 큰 따옴표 == \"hello world\"\n",
    "- 3개 따옴표 == \"\"\"hello world\"\"\""
   ]
  },
  {
   "cell_type": "markdown",
   "id": "a421baba",
   "metadata": {},
   "source": [
    "### 3개 따옴표를 하는 이유 == 줄바꿈 되어 있는 글을 쓰고 싶을때"
   ]
  },
  {
   "cell_type": "code",
   "execution_count": 28,
   "id": "c433ad63",
   "metadata": {},
   "outputs": [
    {
     "ename": "SyntaxError",
     "evalue": "unterminated string literal (detected at line 1) (940327407.py, line 1)",
     "output_type": "error",
     "traceback": [
      "\u001b[1;36m  Cell \u001b[1;32mIn[28], line 1\u001b[1;36m\u001b[0m\n\u001b[1;33m    text = \"안녕하세요\u001b[0m\n\u001b[1;37m           ^\u001b[0m\n\u001b[1;31mSyntaxError\u001b[0m\u001b[1;31m:\u001b[0m unterminated string literal (detected at line 1)\n"
     ]
    }
   ],
   "source": [
    "text = \"안녕하세요\n",
    "여러 줄의\n",
    "문자열입니다.\"\n",
    "print(text)"
   ]
  },
  {
   "cell_type": "code",
   "execution_count": 23,
   "id": "bc802723-a61c-44f3-b303-fcc95067fb78",
   "metadata": {},
   "outputs": [
    {
     "name": "stdout",
     "output_type": "stream",
     "text": [
      "안녕하세요\n",
      "여러 줄의\n",
      "문자열입니다.\n"
     ]
    }
   ],
   "source": [
    "text = \"\"\"안녕하세요\n",
    "여러 줄의\n",
    "문자열입니다.\"\"\"\n",
    "print(text)"
   ]
  },
  {
   "cell_type": "markdown",
   "id": "3d9fbf82",
   "metadata": {},
   "source": [
    "저렇게 일반 따옴표는 줄바꿈을 인식을 못한다"
   ]
  },
  {
   "cell_type": "markdown",
   "id": "47385baa",
   "metadata": {},
   "source": [
    "## 줄바꿈을 하고 싶을때"
   ]
  },
  {
   "cell_type": "code",
   "execution_count": null,
   "id": "5e9912c1",
   "metadata": {},
   "outputs": [
    {
     "name": "stdout",
     "output_type": "stream",
     "text": [
      "안녕하세요.\n",
      " 저는 안동건입니다.\n",
      "대진대학생입니다.\n"
     ]
    }
   ],
   "source": [
    "# 방법 1\n",
    "text = \"안녕하세요.\\n저는 안동건입니다.\\n대진대학생입니다.\"\n",
    "print(text)"
   ]
  },
  {
   "cell_type": "markdown",
   "id": "6351a26a",
   "metadata": {},
   "source": [
    "## 따옴표를 문자열에 놓고 싶을때"
   ]
  },
  {
   "cell_type": "code",
   "execution_count": null,
   "id": "2b017b01",
   "metadata": {},
   "outputs": [
    {
     "name": "stdout",
     "output_type": "stream",
     "text": [
      "I'm ahndonggeon\n"
     ]
    }
   ],
   "source": [
    "# 방법 1 == 서로 다른 따옴표를 넣는다\n",
    "text = \"I'm ahndonggeon\"\n",
    "print(text)\n",
    "# 방법 2 == 이스케이프 문자 사용 \n",
    "text = 'I\\'m ahndonggeon'\n",
    "print(text)"
   ]
  },
  {
   "cell_type": "markdown",
   "id": "88755651",
   "metadata": {},
   "source": [
    "# 이스케이프 코드\n",
    "이스케이프(escape) 코드 == 프로그래밍할 때 사용할 수 있도록 미리 정의해 둔 '문자 조합'"
   ]
  },
  {
   "attachments": {
    "image.png": {
     "image/png": "[encoded data removed]"
    }
   },
   "cell_type": "markdown",
   "id": "23d0426e",
   "metadata": {},
   "source": [
    "![image.png](attachment:image.png)"
   ]
  },
  {
   "cell_type": "markdown",
   "id": "cc1df462",
   "metadata": {},
   "source": [
    "## 문자열 연산"
   ]
  },
  {
   "cell_type": "code",
   "execution_count": 3,
   "id": "fb68f567",
   "metadata": {},
   "outputs": [
    {
     "name": "stdout",
     "output_type": "stream",
     "text": [
      "안동건안동건안동건안동건안동건\n",
      "72\n"
     ]
    }
   ],
   "source": [
    "# 문자열 곱하기\n",
    "text = \"안동건\"\n",
    "print(text * 5)\n",
    "# 문자열 길이 확인하기\n",
    "text = 'sdnhfkljuarfsbngvikjdfabvlhijkancxlkjcmnew;oiukbcniylusdbvluytsdvujsedvi'\n",
    "print(len(text))"
   ]
  },
  {
   "cell_type": "markdown",
   "id": "a3092a21",
   "metadata": {},
   "source": [
    "## 문자열 인덱싱과 슬라이싱\n",
    "### 인덱싱\n",
    "- 문자열은 각 문자가 인덱스라는 번호를 가지고 있다\n",
    "- 인덱스는 0부터 시작하여 문자열에 접근\n",
    "### 슬라이싱\n",
    "- 슬라이싱은 문자열의 일부를 추출하는 데 사용됩니다."
   ]
  },
  {
   "cell_type": "code",
   "execution_count": 7,
   "id": "ffd5014f",
   "metadata": {},
   "outputs": [
    {
     "name": "stdout",
     "output_type": "stream",
     "text": [
      "진\n",
      "안\n",
      "진대학교,우진이,\n",
      "안동건,ai빅데이터학과\n"
     ]
    }
   ],
   "source": [
    "text = '대진대학교,우진이,안동건,ai빅데이터학과'\n",
    "print(text[1])\n",
    "print(text[10])\n",
    "\n",
    "print(text[1:10])\n",
    "# 슬라이싱은 그 전까지를 의미한다\n",
    "print(text[10:])"
   ]
  },
  {
   "cell_type": "markdown",
   "id": "25f8b30d",
   "metadata": {},
   "source": [
    "## 문자열 포멧팅\n",
    "- 정의 == 문자열에서 특정 문자를 바꾸게 해주는 것\n",
    "- 참고로 파이썬에서 이거를 사용하는 일이 거의 없지만 저수준의 언어에서는 자주 사용하게 된다"
   ]
  },
  {
   "cell_type": "code",
   "execution_count": 11,
   "id": "7ab7c4a1",
   "metadata": {},
   "outputs": [
    {
     "name": "stdout",
     "output_type": "stream",
     "text": [
      "I eat five apples.\n"
     ]
    }
   ],
   "source": [
    "print(\"I eat %s apples.\" % \"five\")"
   ]
  },
  {
   "attachments": {
    "image.png": {
     "image/png": "[encoded data removed]"
    }
   },
   "cell_type": "markdown",
   "id": "7765482e",
   "metadata": {},
   "source": [
    "### 종류\n",
    "![image.png](attachment:image.png)"
   ]
  },
  {
   "cell_type": "markdown",
   "id": "e00a8d7b",
   "metadata": {},
   "source": [
    "## format 함수를 사용한 포매팅"
   ]
  },
  {
   "cell_type": "code",
   "execution_count": 13,
   "id": "1aa9d2b9",
   "metadata": {},
   "outputs": [
    {
     "data": {
      "text/plain": [
       "'I eat 3 apples'"
      ]
     },
     "execution_count": 13,
     "metadata": {},
     "output_type": "execute_result"
    }
   ],
   "source": [
    "\"I eat {0} apples\".format(3)"
   ]
  },
  {
   "cell_type": "markdown",
   "id": "8b45f0de",
   "metadata": {},
   "source": [
    "## 문자열 관련 함수 정리"
   ]
  },
  {
   "cell_type": "code",
   "execution_count": null,
   "id": "e48788cd",
   "metadata": {},
   "outputs": [
    {
     "name": "stdout",
     "output_type": "stream",
     "text": [
      "2\n",
      "14\n",
      "8\n",
      "a,b,c,d\n"
     ]
    }
   ],
   "source": [
    "# 문자 개수 세기 - count\n",
    "a = \"hobby\"\n",
    "print(a.count('b'))\n",
    "# 위치 알려 주기 1 - find\n",
    "a = \"Python is the best choice\"\n",
    "print(a.find('b'))\n",
    "# 위치 알려 주기 2 - index\n",
    "a = \"Life is too short\"\n",
    "print(a.index('t'))\n",
    "# 문자열 삽입 - join\n",
    "print(\",\".join('abcd'))"
   ]
  },
  {
   "cell_type": "markdown",
   "id": "40b301a2",
   "metadata": {},
   "source": [
    "- 소문자를 대문자로 바꾸기 - upper\n",
    "- 대문자를 소문자로 바꾸기 - lower\n",
    "### 공백 제거\n",
    "- 왼쪽 공백 지우기 - lstrip\n",
    "- 오른쪽 공백 지우기 - rstrip\n",
    "- 양쪽 공백 지우기 - strip"
   ]
  },
  {
   "cell_type": "code",
   "execution_count": 20,
   "id": "b239518a",
   "metadata": {},
   "outputs": [
    {
     "name": "stdout",
     "output_type": "stream",
     "text": [
      "Your leg is too short\n",
      "['Life', 'is', 'too', 'short']\n"
     ]
    }
   ],
   "source": [
    "# 문자열 바꾸기 - replace\n",
    "a = \"Life is too short\"\n",
    "print(a.replace(\"Life\", \"Your leg\"))\n",
    "# 문자열 나누기 - split\n",
    "a = \"Life is too short\"\n",
    "print(a.split())"
   ]
  },
  {
   "cell_type": "markdown",
   "id": "f05fd066",
   "metadata": {},
   "source": [
    "# 리스트 자료형"
   ]
  },
  {
   "cell_type": "markdown",
   "id": "0da43fd1",
   "metadata": {},
   "source": [
    "## 특징\n",
    "1. 순서가 있는 자료형: 리스트는 순서를 유지하며, 인덱스를 통해 접근할 수 있음\n",
    "2. 변경 가능(Mutable): 리스트의 요소를 추가, 삭제, 수정할 수 있음\n",
    "3. 다양한 데이터 타입 저장 가능: 숫자, 문자열, 다른 리스트 등 다양한 타입을 저장할 수 있음"
   ]
  },
  {
   "cell_type": "markdown",
   "id": "600562c6",
   "metadata": {},
   "source": [
    "## 리스트의 인덱싱과 슬라이싱"
   ]
  },
  {
   "cell_type": "code",
   "execution_count": 21,
   "id": "802c8988",
   "metadata": {},
   "outputs": [
    {
     "name": "stdout",
     "output_type": "stream",
     "text": [
      "254\n",
      "[254, 45, 27, 4, 5, 3]\n"
     ]
    }
   ],
   "source": [
    "list = [45,456,254,45,27,4,5,3]\n",
    "# 인덱싱\n",
    "print(list[2])\n",
    "# 슬라이싱\n",
    "print(list[2:])"
   ]
  },
  {
   "cell_type": "markdown",
   "id": "c7ffdb3c",
   "metadata": {},
   "source": [
    "## 리스트 연산하기"
   ]
  },
  {
   "cell_type": "code",
   "execution_count": 25,
   "id": "1be7b506",
   "metadata": {},
   "outputs": [
    {
     "name": "stdout",
     "output_type": "stream",
     "text": [
      "[1, 2, 3, 4, 5, 6]\n",
      "[1, 2, 3, 1, 2, 3, 1, 2, 3]\n"
     ]
    }
   ],
   "source": [
    "a = [1, 2, 3]\n",
    "b = [4, 5, 6]\n",
    "# 더하기\n",
    "print(a+b)\n",
    "# 곱하기\n",
    "print(a * 3)"
   ]
  },
  {
   "cell_type": "markdown",
   "id": "97f6514c",
   "metadata": {},
   "source": [
    "## 리스트 값 수정하기"
   ]
  },
  {
   "cell_type": "code",
   "execution_count": null,
   "id": "cedc6c9a",
   "metadata": {},
   "outputs": [
    {
     "name": "stdout",
     "output_type": "stream",
     "text": [
      "[1, 2, 3]\n",
      "[1, 2, 20]\n",
      "[2, 20]\n"
     ]
    }
   ],
   "source": [
    "a = [1, 2, 3]\n",
    "print(a)\n",
    "# 리스트 값 수정하기\n",
    "a[2] = 20\n",
    "print(a)\n",
    "# 삭제하기\n",
    "del a[0]\n",
    "print(a)"
   ]
  },
  {
   "cell_type": "markdown",
   "id": "de47417a",
   "metadata": {},
   "source": [
    "## 리스트 관련 함수"
   ]
  },
  {
   "cell_type": "code",
   "execution_count": 46,
   "id": "8b03c7b6",
   "metadata": {},
   "outputs": [
    {
     "name": "stdout",
     "output_type": "stream",
     "text": [
      "[1, 2, 3, 50]\n",
      "[1, 2, 3, 4]\n",
      "['b', 'c', 'a']\n",
      "2\n",
      "[4, 1, 2, 3]\n",
      "[1, 2, 1, 2, 3]\n",
      "[1, 2]\n",
      "2\n"
     ]
    }
   ],
   "source": [
    "# 리스트에 요소 추가하기 - append\n",
    "a = [1, 2, 3]\n",
    "a.append(50)\n",
    "print(a)\n",
    "# 리스트 정렬 - sort\n",
    "a = [1, 4, 3, 2]\n",
    "a.sort()\n",
    "print(a)\n",
    "# 리스트 뒤집기 - reverse\n",
    "a = ['a', 'c', 'b']\n",
    "a.reverse()\n",
    "print(a)\n",
    "# 인덱스 반환 - index\n",
    "a = [1, 2, 3]\n",
    "print(a.index(3))\n",
    "# 리스트에 요소 삽입 - insert\n",
    "a = [1, 2, 3]\n",
    "a.insert(0, 4)\n",
    "print(a)\n",
    "# 리스트 요소 제거 - remove\n",
    "a = [1, 2, 3, 1, 2, 3]\n",
    "a.remove(3)\n",
    "print(a)\n",
    "# 리스트 요소 끄집어 내기 - pop\n",
    "a = [1, 2, 3]\n",
    "a.pop()\n",
    "print(a)\n",
    "# 리스트에 포함된 요소 x의 개수 세기 - count\n",
    "a = [1, 2, 3, 1]\n",
    "print(a.count(1))"
   ]
  },
  {
   "cell_type": "markdown",
   "id": "400cb537",
   "metadata": {},
   "source": [
    "# 튜플 자료형"
   ]
  },
  {
   "cell_type": "markdown",
   "id": "42d38e25",
   "metadata": {},
   "source": [
    "## 특징\n",
    "1. 변경이 불가하다\n",
    "2. 리스트보다 더 빠름"
   ]
  },
  {
   "cell_type": "code",
   "execution_count": 47,
   "id": "193aa383",
   "metadata": {},
   "outputs": [
    {
     "ename": "TypeError",
     "evalue": "'tuple' object doesn't support item deletion",
     "output_type": "error",
     "traceback": [
      "\u001b[1;31m---------------------------------------------------------------------------\u001b[0m",
      "\u001b[1;31mTypeError\u001b[0m                                 Traceback (most recent call last)",
      "Cell \u001b[1;32mIn[47], line 2\u001b[0m\n\u001b[0;32m      1\u001b[0m data \u001b[38;5;241m=\u001b[39m (\u001b[38;5;241m1\u001b[39m, \u001b[38;5;241m2\u001b[39m, \u001b[38;5;124m'\u001b[39m\u001b[38;5;124ma\u001b[39m\u001b[38;5;124m'\u001b[39m, \u001b[38;5;124m'\u001b[39m\u001b[38;5;124mb\u001b[39m\u001b[38;5;124m'\u001b[39m)\n\u001b[1;32m----> 2\u001b[0m \u001b[38;5;28;01mdel\u001b[39;00m \u001b[43mdata\u001b[49m\u001b[43m[\u001b[49m\u001b[38;5;241;43m0\u001b[39;49m\u001b[43m]\u001b[49m\n\u001b[0;32m      3\u001b[0m \u001b[38;5;66;03m# 이렇게 튜플은 변경이 불가하다\u001b[39;00m\n",
      "\u001b[1;31mTypeError\u001b[0m: 'tuple' object doesn't support item deletion"
     ]
    }
   ],
   "source": [
    "data = (1, 2, 'a', 'b')\n",
    "del data[0]\n",
    "# 이렇게 튜플은 변경이 불가하다"
   ]
  },
  {
   "cell_type": "markdown",
   "id": "94cb790a",
   "metadata": {},
   "source": [
    "## 튜플 다루기"
   ]
  },
  {
   "cell_type": "code",
   "execution_count": 51,
   "id": "fad929a1",
   "metadata": {},
   "outputs": [
    {
     "name": "stdout",
     "output_type": "stream",
     "text": [
      "1\n",
      "(2, 'a', 'b')\n",
      "(1, 2, 'a', 'b', 2, 'j', 4, 50)\n",
      "(1, 2, 'a', 'b', 1, 2, 'a', 'b')\n",
      "4\n"
     ]
    }
   ],
   "source": [
    "data = (1, 2, 'a', 'b')\n",
    "# 인덱싱하기\n",
    "print(data[0])\n",
    "# 슬라이싱\n",
    "print(data[1:])\n",
    "# 튜플 더하기\n",
    "test = (2,'j',4,50)\n",
    "print(data + test)\n",
    "# 튜플 곱하기\n",
    "print(data * 2)\n",
    "# 튜플 길이 구하기\n",
    "print(len(data))"
   ]
  },
  {
   "cell_type": "markdown",
   "id": "a57f54db",
   "metadata": {},
   "source": [
    "# 딕셔너리 자료형"
   ]
  },
  {
   "cell_type": "markdown",
   "id": "874709e6",
   "metadata": {},
   "source": [
    "딕셔너리는 **키(key)와 값(value)**의 쌍으로 데이터를 저장하는 자료형\n",
    "## 딕셔너리 특징\n",
    "1. 키-값 쌍으로 구성: 각 키는 고유하며, 키를 통해 값을 참조\n",
    "2. 변경 가능(Mutable): 딕셔너리의 요소를 추가, 삭제, 수정할 수 있음\n",
    "3. 키는 불변 객체만 사용 가능: 문자열, 숫자, 튜플 등 불변 객체만 키로 사용할 수 있음\n",
    "4. 값은 모든 데이터 타입 가능: 리스트, 튜플, 딕셔너리 등 모든 데이터 타입을 값으로 사용할 수 있음\n"
   ]
  },
  {
   "cell_type": "code",
   "execution_count": 163,
   "id": "9bd1bc0f",
   "metadata": {},
   "outputs": [],
   "source": [
    "# 빈 딕셔너리 생성\n",
    "empty_dict = {}\n",
    "\n",
    "# 키-값 쌍으로 구성된 딕셔너리\n",
    "person = {\n",
    "    \"name\": \"John\",\n",
    "    \"age\": 25,\n",
    "    \"city\": \"New York\"\n",
    "}"
   ]
  },
  {
   "cell_type": "code",
   "execution_count": 164,
   "id": "18cc6616",
   "metadata": {},
   "outputs": [
    {
     "name": "stdout",
     "output_type": "stream",
     "text": [
      "John\n",
      "25\n"
     ]
    }
   ],
   "source": [
    "# 값 조회\n",
    "print(person[\"name\"])  # John\n",
    "print(person[\"age\"])   # 25"
   ]
  },
  {
   "cell_type": "code",
   "execution_count": 165,
   "id": "e9467667",
   "metadata": {},
   "outputs": [
    {
     "name": "stdout",
     "output_type": "stream",
     "text": [
      "{'name': 'John', 'age': 25, 'city': 'New York', 'job': 'Developer'}\n",
      "{'name': 'John', 'age': 30, 'city': 'New York', 'job': 'Developer'}\n"
     ]
    }
   ],
   "source": [
    "# 값 추가\n",
    "person[\"job\"] = \"Developer\"\n",
    "print(person)\n",
    "\n",
    "# 값 수정\n",
    "person[\"age\"] = 30\n",
    "print(person) "
   ]
  },
  {
   "cell_type": "code",
   "execution_count": 166,
   "id": "9424d5fc",
   "metadata": {},
   "outputs": [
    {
     "name": "stdout",
     "output_type": "stream",
     "text": [
      "{'name': 'John', 'age': 30, 'job': 'Developer'}\n",
      "Developer\n",
      "{'name': 'John', 'age': 30}\n",
      "{}\n"
     ]
    }
   ],
   "source": [
    "# 특정 키 삭제\n",
    "del person[\"city\"]\n",
    "print(person)  \n",
    "\n",
    "# 특정 키 삭제 후 값 반환\n",
    "job = person.pop(\"job\")\n",
    "print(job)     \n",
    "print(person)  \n",
    "\n",
    "# 모든 요소 삭제\n",
    "person.clear()\n",
    "print(person)"
   ]
  },
  {
   "cell_type": "code",
   "execution_count": 167,
   "id": "c5b7d210",
   "metadata": {},
   "outputs": [
    {
     "name": "stdout",
     "output_type": "stream",
     "text": [
      "dict_keys(['name', 'age', 'city'])\n",
      "dict_values(['John', 25, 'New York'])\n",
      "dict_items([('name', 'John'), ('age', 25), ('city', 'New York')])\n"
     ]
    }
   ],
   "source": [
    "person = {\"name\": \"John\", \"age\": 25, \"city\": \"New York\"}\n",
    "print(person.keys())   \n",
    "print(person.values()) \n",
    "print(person.items())  "
   ]
  },
  {
   "cell_type": "markdown",
   "id": "8d5fb91a",
   "metadata": {},
   "source": [
    "# 집합(Set) 자료형"
   ]
  },
  {
   "cell_type": "markdown",
   "id": "7d7ac817",
   "metadata": {},
   "source": [
    "집합(Set)은 중복을 허용하지 않고, 순서가 없는 데이터의 모음\n",
    "## 집합의 특징\n",
    "1. 중복을 허용하지 않음: 동일한 값이 여러 번 저장되지 않음\n",
    "2. 순서가 없음: 인덱싱이나 슬라이싱이 불가능\n",
    "3. 변경 가능(Mutable): 요소를 추가하거나 삭제할 수 있음\n",
    "4. 다양한 집합 연산 지원: 합집합, 교집합, 차집합 등의 연산을 제공"
   ]
  },
  {
   "cell_type": "code",
   "execution_count": null,
   "id": "9f0fe9c8",
   "metadata": {},
   "outputs": [
    {
     "name": "stdout",
     "output_type": "stream",
     "text": [
      "{1, 2, 3, 4}\n"
     ]
    }
   ],
   "source": [
    "# 빈 집합 생성\n",
    "empty_set = set()\n",
    "\n",
    "# 값이 있는 집합 생성\n",
    "numbers = {1, 2, 3, 4, 5}\n",
    "\n",
    "# 중복 제거\n",
    "duplicates = {1, 2, 2, 3, 3, 4}\n",
    "print(duplicates) "
   ]
  },
  {
   "cell_type": "code",
   "execution_count": 170,
   "id": "2b58ee3c",
   "metadata": {},
   "outputs": [
    {
     "name": "stdout",
     "output_type": "stream",
     "text": [
      "{1, 2, 3, 4}\n",
      "{1, 2, 4}\n"
     ]
    }
   ],
   "source": [
    "# 요소 추가\n",
    "numbers = {1, 2, 3}\n",
    "numbers.add(4)\n",
    "print(numbers)  \n",
    "# 제거\n",
    "numbers = {1, 2, 3, 4}\n",
    "numbers.remove(3)\n",
    "print(numbers) "
   ]
  },
  {
   "cell_type": "markdown",
   "id": "f4dab308",
   "metadata": {},
   "source": [
    "## 집합 연산"
   ]
  },
  {
   "cell_type": "code",
   "execution_count": 171,
   "id": "c383aa9e",
   "metadata": {},
   "outputs": [
    {
     "name": "stdout",
     "output_type": "stream",
     "text": [
      "{1, 2, 3, 4, 5}\n",
      "{1, 2, 3, 4, 5}\n",
      "{3}\n",
      "{3}\n",
      "{1, 2}\n",
      "{1, 2}\n",
      "{1, 2, 4, 5}\n",
      "{1, 2, 4, 5}\n"
     ]
    }
   ],
   "source": [
    "set1 = {1, 2, 3}\n",
    "set2 = {3, 4, 5}\n",
    "\n",
    "# 합집합\n",
    "print(set1 | set2)  # {1, 2, 3, 4, 5}\n",
    "print(set1.union(set2))  # {1, 2, 3, 4, 5}\n",
    "\n",
    "# 교집합\n",
    "print(set1 & set2)  # {3}\n",
    "print(set1.intersection(set2))  # {3}\n",
    "\n",
    "# 차집합\n",
    "print(set1 - set2)  # {1, 2}\n",
    "print(set1.difference(set2))  # {1, 2}\n",
    "\n",
    "# 대칭차집합\n",
    "print(set1 ^ set2)  # {1, 2, 4, 5}\n",
    "print(set1.symmetric_difference(set2))  # {1, 2, 4, 5}"
   ]
  },
  {
   "cell_type": "markdown",
   "id": "49767ecd",
   "metadata": {},
   "source": [
    "# 불 자료형"
   ]
  },
  {
   "cell_type": "markdown",
   "id": "537ddaa6",
   "metadata": {},
   "source": [
    "불(Bool) 자료형은 참(True)과 거짓(False)을 나타내는 자료형\n",
    "- 조건문을 쓸때 유용"
   ]
  },
  {
   "cell_type": "code",
   "execution_count": 173,
   "id": "4080cd03",
   "metadata": {},
   "outputs": [
    {
     "name": "stdout",
     "output_type": "stream",
     "text": [
      "x는 5보다 큽니다.\n"
     ]
    }
   ],
   "source": [
    "x = 10\n",
    "if x > 5:\n",
    "    print(\"x는 5보다 큽니다.\")"
   ]
  },
  {
   "cell_type": "markdown",
   "id": "a280081c",
   "metadata": {},
   "source": [
    "# 변수(Variable) 정리"
   ]
  },
  {
   "cell_type": "markdown",
   "id": "3ad49e7e",
   "metadata": {},
   "source": [
    "변수는 값을 저장하는 공간으로, 데이터를 저장하고 필요할 때 참조할 수 있도록 이름을 붙인 것\n",
    "- 파이썬의 경우는 그냥 쓰면 알아서 자료형이 지정이 된다"
   ]
  },
  {
   "cell_type": "markdown",
   "id": "8bc4b350",
   "metadata": {},
   "source": [
    "## 변수 특징\n",
    "1. 동적 타이핑: 변수의 자료형을 명시적으로 선언하지 않아도 된다\n",
    "2. 값을 재할당 가능: 변수에 다른 값을 할당하면 기존 값이 변경된다\n",
    "3. 메모리 관리: 파이썬은 자동으로 메모리를 관리함"
   ]
  }
 ],
 "metadata": {
  "kernelspec": {
   "display_name": "Python 3 (ipykernel)",
   "language": "python",
   "name": "python3"
  },
  "language_info": {
   "codemirror_mode": {
    "name": "ipython",
    "version": 3
   },
   "file_extension": ".py",
   "mimetype": "text/x-python",
   "name": "python",
   "nbconvert_exporter": "python",
   "pygments_lexer": "ipython3",
   "version": "3.13.1"
  }
 },
 "nbformat": 4,
 "nbformat_minor": 5
}
