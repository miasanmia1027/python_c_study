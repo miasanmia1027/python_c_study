{
 "cells": [
  {
   "cell_type": "markdown",
   "id": "9c56cf15",
   "metadata": {},
   "source": [
    "# 03장 제어문: 프로그램의 흐름을 제어한다"
   ]
  },
  {
   "cell_type": "markdown",
   "id": "3203fe21",
   "metadata": {},
   "source": [
    "## 제어문이란?\n",
    "- 프로그램에서 명령문의 실행 순서를 제어(조절)하는 구문입니다.\n",
    "\n",
    "### 종류\n",
    "1. **조건문**: 특정 조건에 따라 명령을 선택적으로 실행 (예: `if`, `elif`, `else`)\n",
    "2. **반복문**: 특정 명령을 여러 번 반복 실행 (예: `for`, `while`)\n",
    "3. **분기문**: 반복 흐름을 중단하거나 건너뜀 (예: `break`, `continue`)"
   ]
  },
  {
   "cell_type": "markdown",
   "id": "010bf416",
   "metadata": {},
   "source": [
    "## 조건문을 위한 비교 연산자"
   ]
  },
  {
   "cell_type": "markdown",
   "id": "647e50fb",
   "metadata": {},
   "source": [
    "| 연산자 | 의미         | 예시 (a=3, b=5) | 결과   |\n",
    "|--------|--------------|-----------------|--------|\n",
    "| ==     | 같다         | a == b          | False  |\n",
    "| !=     | 같지 않다    | a != b          | True   |\n",
    "| &gt;   | 크다         | a &gt; b         | False  |\n",
    "| &lt;   | 작다         | a &lt; b         | True   |\n",
    "| &gt;=  | 크거나 같다  | a &gt;= b        | False  |\n",
    "| &lt;=  | 작거나 같다  | a &lt;= b        | True   |\n",
    "\n",
    "비교 연산자는 조건문에서 참/거짓을 판단할 때 사용합니다."
   ]
  },
  {
   "cell_type": "code",
   "execution_count": null,
   "id": "ea4cb77b",
   "metadata": {},
   "outputs": [
    {
     "name": "stdout",
     "output_type": "stream",
     "text": [
      "False\n",
      "True\n",
      "True\n"
     ]
    }
   ],
   "source": [
    "# 비교 연산자 예시\n",
    "x = 3\n",
    "y = 2\n",
    "print(x == y)    # False\n",
    "print(x == 3)    # True\n",
    "print(x < 4)     # True"
   ]
  },
  {
   "cell_type": "markdown",
   "id": "79a77908",
   "metadata": {},
   "source": [
    "## 논리 연산자: and, or, not\n",
    "\n",
    "- **and**: 두 조건이 모두 참일 때만 참\n",
    "- **or**: 둘 중 하나라도 참이면 참\n",
    "- **not**: 조건의 참/거짓을 반대로\n",
    "\n",
    "복잡한 조건을 만들 때 사용합니다."
   ]
  },
  {
   "cell_type": "code",
   "execution_count": null,
   "id": "e4f536d2",
   "metadata": {},
   "outputs": [
    {
     "name": "stdout",
     "output_type": "stream",
     "text": [
      "False\n",
      "True\n",
      "False\n"
     ]
    }
   ],
   "source": [
    "# 논리 연산자 예시\n",
    "x = 3\n",
    "y = 4\n",
    "z = 3\n",
    "print(x != 3 and x == z)   # False\n",
    "print(x != 3 or x == z)    # True\n",
    "print(not(x == 3))         # False"
   ]
  },
  {
   "cell_type": "markdown",
   "id": "925acb57",
   "metadata": {},
   "source": [
    "## 포함 연산자: in, not in\n",
    "\n",
    "- **in**: 값이 시퀀스(리스트, 문자열 등)에 포함되어 있으면 참\n",
    "- **not in**: 값이 포함되어 있지 않으면 참\n",
    "\n",
    "포함 여부를 조건문에서 자주 사용합니다."
   ]
  },
  {
   "cell_type": "code",
   "execution_count": null,
   "id": "fce60037",
   "metadata": {},
   "outputs": [
    {
     "name": "stdout",
     "output_type": "stream",
     "text": [
      "True\n",
      "False\n",
      "------------------------------\n",
      "False\n",
      "True\n"
     ]
    }
   ],
   "source": [
    "# in, not in 예시\n",
    "print('a' in 'apple')         # True\n",
    "print(3 in [1,2,4])           # False\n",
    "print(\"-\"*30)\n",
    "print('a' not in 'apple')     # False\n",
    "print(3 not in [1,2,4])       # True"
   ]
  },
  {
   "cell_type": "markdown",
   "id": "90af78c4",
   "metadata": {},
   "source": [
    "# 조건문 (if문)\n",
    "\n",
    "조건이 참(True)일 때만 특정 코드가 실행됩니다.  \n",
    "대표적으로 `if`, `elif`, `else` 구문이 있습니다."
   ]
  },
  {
   "cell_type": "code",
   "execution_count": null,
   "id": "d3a0d346",
   "metadata": {},
   "outputs": [
    {
     "name": "stdout",
     "output_type": "stream",
     "text": [
      "B학점\n"
     ]
    }
   ],
   "source": [
    "# if, elif, else 예시\n",
    "score = 85\n",
    "if score >= 90:\n",
    "    print(\"A학점\")\n",
    "elif score >= 80:\n",
    "    print(\"B학점\")\n",
    "else:\n",
    "    print(\"C학점\")"
   ]
  },
  {
   "cell_type": "markdown",
   "id": "6782e634",
   "metadata": {},
   "source": [
    "- `if`: 첫 번째 조건을 검사  \n",
    "- `elif`: 위 조건이 거짓이면 다음 조건 검사  \n",
    "- `else`: 모든 조건이 거짓이면 실행\n",
    "\n",
    "점수에 따라 \"A학점\", \"B학점\", \"C학점\" 중 하나가 출력됩니다."
   ]
  },
  {
   "cell_type": "markdown",
   "id": "1876dd49",
   "metadata": {},
   "source": [
    "# 반복문 (for, while문)\n",
    "\n",
    "특정 명령을 여러 번 반복해서 실행할 때 사용합니다."
   ]
  },
  {
   "cell_type": "markdown",
   "id": "d5a51c10",
   "metadata": {},
   "source": [
    "## while문\n",
    "\n",
    "조건이 참인 동안 반복 실행합니다.\n",
    "\n",
    "```python\n",
    "while 조건식:\n",
    "    반복할 코드\n",
    "```"
   ]
  },
  {
   "cell_type": "code",
   "execution_count": null,
   "id": "64356c65",
   "metadata": {},
   "outputs": [
    {
     "name": "stdout",
     "output_type": "stream",
     "text": [
      "1\n",
      "2\n",
      "3\n",
      "4\n",
      "5\n"
     ]
    }
   ],
   "source": [
    "# 1부터 5까지 출력\n",
    "i = 1\n",
    "while i <= 5:\n",
    "    print(i)\n",
    "    i += 1"
   ]
  },
  {
   "cell_type": "markdown",
   "id": "21ffbc70",
   "metadata": {},
   "source": [
    "## for문\n",
    "\n",
    "시퀀스(리스트, 문자열 등)의 요소를 하나씩 꺼내며 반복합니다.\n",
    "\n",
    "```python\n",
    "for 변수 in 시퀀스:\n",
    "    반복할 코드\n",
    "```"
   ]
  },
  {
   "cell_type": "code",
   "execution_count": 18,
   "id": "a5d5fb88",
   "metadata": {},
   "outputs": [
    {
     "name": "stdout",
     "output_type": "stream",
     "text": [
      "1\n",
      "2\n",
      "3\n",
      "4\n",
      "5\n"
     ]
    }
   ],
   "source": [
    "# 리스트의 모든 요소 출력\n",
    "numbers = [1, 2, 3, 4, 5]\n",
    "for num in numbers:\n",
    "    print(num)"
   ]
  },
  {
   "cell_type": "markdown",
   "id": "792d9034",
   "metadata": {},
   "source": [
    "# 분기문 (break, continue)\n",
    "\n",
    "반복문 안에서 반복의 흐름을 제어할 때 사용합니다."
   ]
  },
  {
   "cell_type": "markdown",
   "id": "7f5e1d7e",
   "metadata": {},
   "source": [
    "## break문\n",
    "- 반복문을 즉시 종료하고 반복문 밖으로 빠져나갑니다."
   ]
  },
  {
   "cell_type": "markdown",
   "id": "50f832d3",
   "metadata": {},
   "source": [
    "## break문\n",
    "- 반복문을 즉시 종료하고 반복문 밖으로 빠져나갑니다."
   ]
  },
  {
   "cell_type": "code",
   "execution_count": null,
   "id": "c4fb74ee",
   "metadata": {},
   "outputs": [
    {
     "name": "stdout",
     "output_type": "stream",
     "text": [
      "1\n",
      "2\n",
      "3\n",
      "4\n"
     ]
    }
   ],
   "source": [
    "# break 예시\n",
    "for i in range(1, 10):\n",
    "    if i == 5:\n",
    "        break\n",
    "    print(i)\n",
    "# 1, 2, 3, 4 출력 (i가 5가 되면 반복 종료)"
   ]
  },
  {
   "cell_type": "markdown",
   "id": "acf69630",
   "metadata": {},
   "source": [
    "## continue문\n",
    "\n",
    "- 반복문의 나머지 부분을 건너뛰고, 다음 반복을 진행합니다."
   ]
  },
  {
   "cell_type": "code",
   "execution_count": null,
   "id": "99a6f488",
   "metadata": {},
   "outputs": [
    {
     "name": "stdout",
     "output_type": "stream",
     "text": [
      "1\n",
      "2\n",
      "4\n",
      "5\n"
     ]
    }
   ],
   "source": [
    "# continue 예시\n",
    "for i in range(1, 6):\n",
    "    if i == 3:\n",
    "        continue\n",
    "    print(i)\n",
    "# 1, 2, 4, 5 출력 (i가 3일 때는 print를 건너뜀)"
   ]
  }
 ],
 "metadata": {
  "kernelspec": {
   "display_name": "ahn",
   "language": "python",
   "name": "python3"
  },
  "language_info": {
   "codemirror_mode": {
    "name": "ipython",
    "version": 3
   },
   "file_extension": ".py",
   "mimetype": "text/x-python",
   "name": "python",
   "nbconvert_exporter": "python",
   "pygments_lexer": "ipython3",
   "version": "3.13.1"
  }
 },
 "nbformat": 4,
 "nbformat_minor": 5
}
