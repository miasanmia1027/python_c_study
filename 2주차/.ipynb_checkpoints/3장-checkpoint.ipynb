{
 "cells": [
  {
   "cell_type": "markdown",
   "id": "9c56cf15",
   "metadata": {},
   "source": [
    "# 03장 프로그램의 구조를 쌓는다! 제어문\n"
   ]
  },
  {
   "cell_type": "markdown",
   "id": "3203fe21",
   "metadata": {},
   "source": [
    "# 우리가 제어문을 사용하는 이유\n",
    "#### 제어문 == 프로그램에서 명령문의 실행 순서를 제어(조절)하는 구문.\n",
    "## 제어문 종류\n",
    "1. 조건문 == 특정 조건에 따라 명령을 선택적으로 실행 (예: if, elif, else)\n",
    "2. 반복문 ==  특정 명령을 여러 번 반복해서 실행 (예: for, while)\n",
    "3. 분기문 == 프로그램의 흐름을 특정 위치로 이동 (예: break, continue, goto(다른 언어에서))"
   ]
  },
  {
   "cell_type": "markdown",
   "id": "010bf416",
   "metadata": {},
   "source": [
    "# 조건문 사전 지식"
   ]
  },
  {
   "cell_type": "markdown",
   "id": "647e50fb",
   "metadata": {},
   "source": [
    "## 주요 비교 연산자\n",
    "\n",
    "| 연산자 | 의미           | 예시 (a=3, b=5) | 결과   |\n",
    "|--------|----------------|-----------------|--------|\n",
    "| ==     | 같다           | a == b          | False  |\n",
    "| !=     | 같지 않다      | a != b          | True   |\n",
    "| >      | 크다           | a > b           | False  |\n",
    "| <      | 작다           | a < b           | True   |\n",
    "| >=     | 크거나 같다    | a >= b          | False  |\n",
    "| <=     | 작거나 같다    | a <= b          | True   |\n",
    "\n",
    "이러한 비교 연산자를 조건문(if 등)과 함께 사용하여, 특정 조건이 참인지 거짓인지 판단할 수 있음"
   ]
  },
  {
   "cell_type": "code",
   "execution_count": null,
   "id": "ea4cb77b",
   "metadata": {},
   "outputs": [
    {
     "name": "stdout",
     "output_type": "stream",
     "text": [
      "False\n",
      "True\n",
      "True\n"
     ]
    }
   ],
   "source": [
    "x = 3\n",
    "y = 2\n",
    "print(x ==y)\n",
    "print(x == 3)\n",
    "print(x < 4)"
   ]
  },
  {
   "cell_type": "markdown",
   "id": "79a77908",
   "metadata": {},
   "source": [
    "## and, or, not\n",
    "\n",
    "조건문에서 여러 조건을 결합하거나 반전할 때 사용하는 논리 연산자\n",
    "\n",
    "- **and** : 두 조건이 모두 참일 때만 전체가 참  \n",
    "- **or** : 둘 중 하나라도 참이면 전체가 참  \n",
    "- **not** : 조건의 참/거짓을 반대로 바꿈  \n",
    "\n",
    "이 연산자들은 조건문(if 등)에서 복잡한 조건을 만들 때 자주 사용"
   ]
  },
  {
   "cell_type": "code",
   "execution_count": 8,
   "id": "e4f536d2",
   "metadata": {},
   "outputs": [
    {
     "name": "stdout",
     "output_type": "stream",
     "text": [
      "False\n",
      "True\n",
      "False\n"
     ]
    }
   ],
   "source": [
    "x = 3\n",
    "y = 4\n",
    "z = 3\n",
    "print(x != 3 and x == z)\n",
    "print(x != 3 or x == z)\n",
    "print(not(x == 3))"
   ]
  },
  {
   "cell_type": "markdown",
   "id": "925acb57",
   "metadata": {},
   "source": [
    "## in, not in\n",
    "\n",
    "`in`과 `not in`은 특정 값이 시퀀스(리스트, 문자열, 튜플 등)에 포함되어 있는지 확인할 때 사용하는 연산자입니다.\n",
    "\n",
    "- **in** : 값이 시퀀스에 포함되어 있으면 참(True)\n",
    "- **not in** : 값이 시퀀스에 포함되어 있지 않으면 참(True)\n",
    "\n",
    "주로 조건문에서 특정 값의 포함 여부를 판단할 때 사용합니다."
   ]
  },
  {
   "cell_type": "code",
   "execution_count": 13,
   "id": "fce60037",
   "metadata": {},
   "outputs": [
    {
     "name": "stdout",
     "output_type": "stream",
     "text": [
      "True\n",
      "False\n",
      "------------------------------\n",
      "False\n",
      "True\n"
     ]
    }
   ],
   "source": [
    "print('a' in 'apple')\n",
    "print(3 in [1,2,4])\n",
    "print(\"-\"*30)\n",
    "print('a' not in 'apple')\n",
    "print(3 not in [1,2,4])"
   ]
  },
  {
   "cell_type": "markdown",
   "id": "90af78c4",
   "metadata": {},
   "source": [
    "# 조건문 (if문)\n",
    "\n",
    "**정의:**  \n",
    "조건문은 주어진 조건이 참(True)인지 거짓(False)인지 판단하여, 그에 따라 명령을 선택적으로 실행하는 문장입니다.\n",
    "\n",
    "즉, 조건이 참일 때만 특정 코드가 실행되고, 거짓이면 실행되지 않습니다.  \n",
    "대표적으로 `if`, `elif`, `else` 구문이 있습니다."
   ]
  },
  {
   "cell_type": "code",
   "execution_count": null,
   "id": "d3a0d346",
   "metadata": {},
   "outputs": [
    {
     "name": "stdout",
     "output_type": "stream",
     "text": [
      "B학점\n"
     ]
    }
   ],
   "source": [
    "# if, elif, else 예시 코드\n",
    "\n",
    "score = 85\n",
    "if score >= 90:\n",
    "    print(\"A학점\")\n",
    "elif score >= 80:\n",
    "    print(\"B학점\")\n",
    "else:\n",
    "    print(\"C학점\")"
   ]
  },
  {
   "cell_type": "markdown",
   "id": "6782e634",
   "metadata": {},
   "source": [
    "위 코드는 if, elif, else를 사용한 조건문 예시입니다.\n",
    "\n",
    "- `if`는 첫 번째 조건(score가 90 이상)을 검사합니다.\n",
    "- 조건이 거짓이면 `elif`(score가 80 이상)을 검사합니다.\n",
    "- 위 조건들도 모두 거짓이면 `else`가 실행됩니다.\n",
    "\n",
    "즉, 점수에 따라 \"A학점\", \"B학점\", \"C학점\" 중 하나가 출력됩니다."
   ]
  },
  {
   "cell_type": "markdown",
   "id": "1876dd49",
   "metadata": {},
   "source": [
    "# 반복문 (for, while문)\n",
    "\n",
    "**정의:**  \n",
    "반복문은 특정 명령을 여러 번 반복해서 실행할 때 사용하는 구문입니다.  \n",
    "동일한 작업을 효율적으로 처리할 수 있도록 도와줍니다."
   ]
  },
  {
   "cell_type": "markdown",
   "id": "d5a51c10",
   "metadata": {},
   "source": [
    "## while문\n",
    "\n",
    "while문은 조건이 참(True)인 동안 반복해서 코드를 실행하는 반복문입니다.  \n",
    "조건이 거짓(False)이 되면 반복이 종료됩니다.\n",
    "\n",
    "### 기본 구조\n",
    "\n",
    "```python\n",
    "while 조건식:\n",
    "    반복할 코드"
   ]
  },
  {
   "cell_type": "code",
   "execution_count": 16,
   "id": "64356c65",
   "metadata": {},
   "outputs": [
    {
     "name": "stdout",
     "output_type": "stream",
     "text": [
      "1\n",
      "2\n",
      "3\n",
      "4\n",
      "5\n"
     ]
    }
   ],
   "source": [
    "# 1부터 5까지 출력하는 예시\n",
    "i = 1\n",
    "while i <= 5:\n",
    "    print(i)\n",
    "    i += 1"
   ]
  },
  {
   "cell_type": "markdown",
   "id": "21ffbc70",
   "metadata": {},
   "source": [
    "## for문\n",
    "\n",
    "for문은 리스트, 튜플, 문자열 등 시퀀스(여러 값이 모여 있는 자료형)의 요소를 하나씩 꺼내면서 반복할 때 사용합니다.\n",
    "\n",
    "### 기본 구조\n",
    "\n",
    "```python\n",
    "for 변수 in 시퀀스:\n",
    "    반복할 코드"
   ]
  },
  {
   "cell_type": "code",
   "execution_count": 18,
   "id": "a5d5fb88",
   "metadata": {},
   "outputs": [
    {
     "name": "stdout",
     "output_type": "stream",
     "text": [
      "1\n",
      "2\n",
      "3\n",
      "4\n",
      "5\n"
     ]
    }
   ],
   "source": [
    "# 리스트의 모든 요소 출력\n",
    "numbers = [1, 2, 3, 4, 5]\n",
    "for num in numbers:\n",
    "    print(num)"
   ]
  },
  {
   "cell_type": "markdown",
   "id": "792d9034",
   "metadata": {},
   "source": [
    "# 분기문 (break, continue)\n",
    "\n",
    "반복문(for, while) 안에서 반복의 흐름을 제어할 때 사용하는 문장입니다."
   ]
  },
  {
   "cell_type": "markdown",
   "id": "7f5e1d7e",
   "metadata": {},
   "source": [
    "# 분기문 (break, continue)\n",
    "\n",
    "반복문(for, while) 안에서 반복의 흐름을 제어할 때 사용하는 문장입니다."
   ]
  },
  {
   "cell_type": "markdown",
   "id": "50f832d3",
   "metadata": {},
   "source": [
    "## break문\n",
    "- 반복문을 즉시 종료하고 반복문 밖으로 빠져나갑니다."
   ]
  },
  {
   "cell_type": "code",
   "execution_count": 20,
   "id": "c4fb74ee",
   "metadata": {},
   "outputs": [
    {
     "name": "stdout",
     "output_type": "stream",
     "text": [
      "1\n",
      "2\n",
      "3\n",
      "4\n"
     ]
    }
   ],
   "source": [
    "for i in range(1, 10):\n",
    "    if i == 5:\n",
    "        break\n",
    "    print(i)\n",
    "# 1, 2, 3, 4 출력 (i가 5가 되면 반복 종료)"
   ]
  },
  {
   "cell_type": "markdown",
   "id": "acf69630",
   "metadata": {},
   "source": [
    "## continue문\n",
    "\n",
    "- 반복문의 나머지 부분을 건너뛰고, 다음 반복을 진행합니다."
   ]
  },
  {
   "cell_type": "code",
   "execution_count": 21,
   "id": "99a6f488",
   "metadata": {},
   "outputs": [
    {
     "name": "stdout",
     "output_type": "stream",
     "text": [
      "1\n",
      "2\n",
      "4\n",
      "5\n"
     ]
    }
   ],
   "source": [
    "for i in range(1, 6):\n",
    "    if i == 3:\n",
    "        continue\n",
    "    print(i)\n",
    "# 1, 2, 4, 5 출력 (i가 3일 때는 print를 건너뜀)"
   ]
  }
 ],
 "metadata": {
  "kernelspec": {
   "display_name": "ahn",
   "language": "python",
   "name": "python3"
  },
  "language_info": {
   "codemirror_mode": {
    "name": "ipython",
    "version": 3
   },
   "file_extension": ".py",
   "mimetype": "text/x-python",
   "name": "python",
   "nbconvert_exporter": "python",
   "pygments_lexer": "ipython3",
   "version": "3.13.1"
  }
 },
 "nbformat": 4,
 "nbformat_minor": 5
}
