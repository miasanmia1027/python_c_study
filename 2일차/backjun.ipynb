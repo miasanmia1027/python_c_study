{
 "cells": [
  {
   "cell_type": "markdown",
   "id": "e6b102af",
   "metadata": {},
   "source": [
    "https://www.acmicpc.net/problem/1000"
   ]
  },
  {
   "cell_type": "code",
   "execution_count": 1,
   "id": "d0c01e97",
   "metadata": {},
   "outputs": [
    {
     "name": "stdout",
     "output_type": "stream",
     "text": [
      "3\n"
     ]
    }
   ],
   "source": [
    "A = int(input())\n",
    "B = int(input())\n",
    "print(A + B)"
   ]
  },
  {
   "cell_type": "code",
   "execution_count": null,
   "id": "c86b33fa",
   "metadata": {},
   "outputs": [],
   "source": [
    "A = 1\n",
    "B = 2"
   ]
  },
  {
   "attachments": {
    "image.png": {
     "image/png": "[encoded data removed]"
    }
   },
   "cell_type": "markdown",
   "id": "aa2d69ed",
   "metadata": {},
   "source": [
    "![image.png](attachment:image.png)"
   ]
  },
  {
   "cell_type": "markdown",
   "id": "0614faf1",
   "metadata": {},
   "source": [
    "https://www.acmicpc.net/step/3\n",
    "\n",
    "- https://www.acmicpc.net/problem/8393\n",
    "- https://www.acmicpc.net/problem/2739\n",
    "- https://www.acmicpc.net/problem/2438\n",
    "- 여기 3문제 중에서 1문제는 if와 while 둘다 사용하여 문제를 푸시오"
   ]
  },
  {
   "cell_type": "markdown",
   "id": "c97f83a1",
   "metadata": {},
   "source": [
    "https://www.acmicpc.net/step/4\n",
    "- https://www.acmicpc.net/problem/9498\n",
    "- https://www.acmicpc.net/problem/2884\n",
    "- https://www.acmicpc.net/problem/2525\n",
    "- https://www.acmicpc.net/problem/2753"
   ]
  },
  {
   "cell_type": "markdown",
   "id": "2e0970be",
   "metadata": {},
   "source": []
  }
 ],
 "metadata": {
  "kernelspec": {
   "display_name": "ahn",
   "language": "python",
   "name": "python3"
  },
  "language_info": {
   "codemirror_mode": {
    "name": "ipython",
    "version": 3
   },
   "file_extension": ".py",
   "mimetype": "text/x-python",
   "name": "python",
   "nbconvert_exporter": "python",
   "pygments_lexer": "ipython3",
   "version": "3.13.1"
  }
 },
 "nbformat": 4,
 "nbformat_minor": 5
}
