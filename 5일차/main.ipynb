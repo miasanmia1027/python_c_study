{
 "cells": [
  {
   "cell_type": "code",
   "execution_count": null,
   "id": "34d5ebd5",
   "metadata": {},
   "outputs": [],
   "source": [
    "# 일단 필수 모듈 추가\n",
    "from numpy import random\n",
    "import os\n",
    "import json\n",
    "import math"
   ]
  },
  {
   "cell_type": "code",
   "execution_count": 96,
   "id": "b86ad683",
   "metadata": {},
   "outputs": [],
   "source": [
    "# 처음에 아무 데이터도 없으면 오류가 생겨서 -> 처음에 데이터를 추가해준다\n",
    "# JSONDecodeError: Expecting value: line 1 column 1 (char 0)\n",
    "\n",
    "\n",
    "# OS를 안쓴 방식\n",
    "# try:\n",
    "#     with open('score.json', 'r') as file:\n",
    "#         data = json.load(file)\n",
    "#     print(\"json 파일 있음\")\n",
    "#     top_score = data[0][\"score\"]\n",
    "# except:\n",
    "#     top_score = 999\n",
    "\n",
    "\n",
    "if os.path.exists('score.json'):\n",
    "    with open('score.json', 'r', encoding='utf-8') as file:\n",
    "        data = json.load(file)\n",
    "        top_score = data[0][\"score\"]\n",
    "else:\n",
    "    top_score = 999"
   ]
  },
  {
   "cell_type": "code",
   "execution_count": 97,
   "id": "bcbdc44b",
   "metadata": {},
   "outputs": [
    {
     "name": "stdout",
     "output_type": "stream",
     "text": [
      "현재 최고 기록 == 1\n"
     ]
    },
    {
     "ename": "ValueError",
     "evalue": "invalid literal for int() with base 10: ''",
     "output_type": "error",
     "traceback": [
      "\u001b[1;31m---------------------------------------------------------------------------\u001b[0m",
      "\u001b[1;31mValueError\u001b[0m                                Traceback (most recent call last)",
      "Cell \u001b[1;32mIn[97], line 11\u001b[0m\n\u001b[0;32m      9\u001b[0m user_name \u001b[38;5;241m=\u001b[39m \u001b[38;5;28minput\u001b[39m(\u001b[38;5;124m\"\u001b[39m\u001b[38;5;124m이름을 입력하시오\u001b[39m\u001b[38;5;124m\"\u001b[39m)\n\u001b[0;32m     10\u001b[0m \u001b[38;5;28;01mwhile\u001b[39;00m \u001b[38;5;28;01mTrue\u001b[39;00m:\n\u001b[1;32m---> 11\u001b[0m     user_input \u001b[38;5;241m=\u001b[39m \u001b[38;5;28;43mint\u001b[39;49m\u001b[43m(\u001b[49m\u001b[38;5;28;43minput\u001b[39;49m\u001b[43m(\u001b[49m\u001b[38;5;124;43m\"\u001b[39;49m\u001b[38;5;124;43m정수를 입력하시오\u001b[39;49m\u001b[38;5;124;43m\"\u001b[39;49m\u001b[43m)\u001b[49m\u001b[43m)\u001b[49m\n\u001b[0;32m     12\u001b[0m     \u001b[38;5;28mprint\u001b[39m(\u001b[38;5;124m\"\u001b[39m\u001b[38;5;124m-\u001b[39m\u001b[38;5;124m\"\u001b[39m\u001b[38;5;241m*\u001b[39m\u001b[38;5;241m20\u001b[39m)\n\u001b[0;32m     14\u001b[0m     \u001b[38;5;66;03m# 힌트 구간\u001b[39;00m\n",
      "\u001b[1;31mValueError\u001b[0m: invalid literal for int() with base 10: ''"
     ]
    }
   ],
   "source": [
    "# 랜덤 비밀 숫자 생성\n",
    "random_num = random.randint(100)\n",
    "\n",
    "print(f'현재 최고 기록 == {top_score}')\n",
    "\n",
    "\n",
    "# 맞출때까지 계속 반복을 해야 해서 while 문을 사용함\n",
    "user_score = 1\n",
    "user_name = input(\"이름을 입력하시오\")\n",
    "while True:\n",
    "    user_input = int(input(\"정수를 입력하시오\"))\n",
    "    print(\"-\"*20)\n",
    "    \n",
    "    # 힌트 구간\n",
    "    if user_score >=5:\n",
    "        print(f\"랜덤 숫자의 제곱근 == {math.sqrt(random_num)}\")\n",
    "    \n",
    "\n",
    "    if user_input == random_num:\n",
    "        print(f\"{user_name} 굳굳\")\n",
    "        print(f\"{random_num}이 정답입니다\")\n",
    "        break\n",
    "    if user_input < random_num:\n",
    "        print(f\"너의 입력 == {user_input}\")\n",
    "        print(\"더 크게 입력하라\")\n",
    "        user_score+=1\n",
    "    elif user_input > random_num:\n",
    "        print(f\"너의 입력 == {user_input}\")\n",
    "        print(\"더 작게 입력하라\")\n",
    "        user_score+=1\n",
    "    \n",
    "\n",
    "print(\"당시의 스토어는 \",user_score)"
   ]
  },
  {
   "cell_type": "code",
   "execution_count": null,
   "id": "7160eaf7",
   "metadata": {},
   "outputs": [],
   "source": [
    "if user_score < top_score:\n",
    "    try:\n",
    "        with open('score.json', 'r') as file:\n",
    "            data = json.load(file)\n",
    "    except:\n",
    "        data = []\n",
    "\n",
    "    append_data = {\n",
    "        \"name\": user_name,\n",
    "        \"score\": user_score\n",
    "    }\n",
    "\n",
    "    data.append(append_data)\n",
    "\n",
    "    with open('score.json', 'w',encoding=\"utf-8\") as file:\n",
    "        json.dump(data, file , ensure_ascii=False) # -> 한국어를 위하여"
   ]
  }
 ],
 "metadata": {
  "kernelspec": {
   "display_name": "ahn",
   "language": "python",
   "name": "python3"
  },
  "language_info": {
   "codemirror_mode": {
    "name": "ipython",
    "version": 3
   },
   "file_extension": ".py",
   "mimetype": "text/x-python",
   "name": "python",
   "nbconvert_exporter": "python",
   "pygments_lexer": "ipython3",
   "version": "3.13.1"
  }
 },
 "nbformat": 4,
 "nbformat_minor": 5
}
