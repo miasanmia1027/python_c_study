{
 "cells": [
  {
   "cell_type": "markdown",
   "id": "19770ead-e9c4-4f5f-b25c-32dcf1f9e19b",
   "metadata": {},
   "source": [
    "# 파이썬에 있는 자료형들\n",
    "- 숫자\n",
    "- 문자열\n",
    "- 리스트\n",
    "- 튜플\n",
    "- 딕셔너리\n",
    "- 집합\n",
    "- 불\n",
    "\n",
    "\n"
   ]
  },
  {
   "cell_type": "markdown",
   "id": "2760571b-5036-4ae6-80d5-7b409894a46b",
   "metadata": {},
   "source": [
    "# 숫자형 자료형\n",
    "### 정수형\n",
    "### 실수형\n",
    "### 8진수와 16진수\n",
    "- 이거는 짜치고 파이썬에서는 굳이\n",
    "\n",
    "\n"
   ]
  },
  {
   "cell_type": "markdown",
   "id": "7724d069",
   "metadata": {},
   "source": [
    "## 사칙연산"
   ]
  },
  {
   "cell_type": "code",
   "execution_count": 15,
   "id": "f89351e0-8158-4ae9-975f-6464df655dd5",
   "metadata": {},
   "outputs": [],
   "source": [
    "x = 10\n",
    "y = 2\n",
    "z = 6"
   ]
  },
  {
   "cell_type": "code",
   "execution_count": 16,
   "id": "501839b6-45d4-4c6b-885a-fdb8427a817e",
   "metadata": {},
   "outputs": [
    {
     "name": "stdout",
     "output_type": "stream",
     "text": [
      "12\n"
     ]
    }
   ],
   "source": [
    "# 덧샘\n",
    "print(x + y)"
   ]
  },
  {
   "cell_type": "code",
   "execution_count": 17,
   "id": "20512b06-643c-409f-8631-7cbdf71de666",
   "metadata": {},
   "outputs": [
    {
     "name": "stdout",
     "output_type": "stream",
     "text": [
      "8\n"
     ]
    }
   ],
   "source": [
    "# 뺴기 \n",
    "print(x - y)"
   ]
  },
  {
   "cell_type": "code",
   "execution_count": 18,
   "id": "f07a6418-f267-42d4-9b70-5ed266a38893",
   "metadata": {},
   "outputs": [
    {
     "name": "stdout",
     "output_type": "stream",
     "text": [
      "20\n",
      "100\n"
     ]
    }
   ],
   "source": [
    "# 곱하기\n",
    "print(x * y)\n",
    "# 제곱\n",
    "print(x ** y)"
   ]
  },
  {
   "cell_type": "code",
   "execution_count": 19,
   "id": "618ab15f-7eb4-48ea-ad68-55994036298c",
   "metadata": {},
   "outputs": [
    {
     "name": "stdout",
     "output_type": "stream",
     "text": [
      "1.6666666666666667\n",
      "1\n",
      "4\n"
     ]
    }
   ],
   "source": [
    "# 나누기\n",
    "print(x / z)\n",
    "# 정수만\n",
    "print(x // z)\n",
    "# 나머지\n",
    "print(x % z)"
   ]
  },
  {
   "cell_type": "markdown",
   "id": "528b5ebb",
   "metadata": {},
   "source": [
    "## 복합 연산자\n"
   ]
  },
  {
   "cell_type": "code",
   "execution_count": null,
   "id": "0cbe77d1-e0b6-41f9-aa97-85e802a7be43",
   "metadata": {},
   "outputs": [
    {
     "name": "stdout",
     "output_type": "stream",
     "text": [
      "6\n"
     ]
    }
   ],
   "source": [
    "a = 1\n",
    "a = a + 5\n",
    "print(a)"
   ]
  },
  {
   "cell_type": "markdown",
   "id": "e752815e",
   "metadata": {},
   "source": [
    "- 이렇게 a를 두번이나 사용을 하면 코드가 길어지고 가독성이 떨어진다\n",
    "- 그래서 사람들이 한번에 하는 코드를 만들었다"
   ]
  },
  {
   "cell_type": "code",
   "execution_count": 22,
   "id": "32eeb75f-3339-4a5b-84ee-d442d8cf8f9f",
   "metadata": {},
   "outputs": [
    {
     "name": "stdout",
     "output_type": "stream",
     "text": [
      "6\n"
     ]
    }
   ],
   "source": [
    "a = 1\n",
    "a += 5\n",
    "print(a)"
   ]
  },
  {
   "cell_type": "markdown",
   "id": "7486d253",
   "metadata": {},
   "source": [
    "### 복합 연산자 종류\n",
    "- +=\n",
    "- -=\n",
    "- *=\n",
    "- /=\n",
    "- //=\n",
    "- %=\n",
    "- **=\n",
    "##### 그냥 사칙 연산 뒤에 '=' 이게 붙었다고 생각을 하면 된다"
   ]
  },
  {
   "cell_type": "markdown",
   "id": "9528a00e",
   "metadata": {},
   "source": [
    "# 문자열(string) 자료형"
   ]
  },
  {
   "cell_type": "code",
   "execution_count": 27,
   "id": "a4ff1f37",
   "metadata": {},
   "outputs": [
    {
     "name": "stdout",
     "output_type": "stream",
     "text": [
      "hello world\n"
     ]
    }
   ],
   "source": [
    "text = \"hello world\"\n",
    "print(text)"
   ]
  },
  {
   "cell_type": "markdown",
   "id": "5a425dde",
   "metadata": {},
   "source": [
    "## 문자열 자료형의 종류\n",
    "- 작은 따옴표 == 'hello world'\n",
    "- 큰 따옴표 == \"hello world\"\n",
    "- 3개 따옴표 == \"\"\"hello world\"\"\""
   ]
  },
  {
   "cell_type": "markdown",
   "id": "a421baba",
   "metadata": {},
   "source": [
    "### 3개 따옴표를 하는 이유 == 줄바꿈 되어 있는 글을 쓰고 싶을때"
   ]
  },
  {
   "cell_type": "code",
   "execution_count": 28,
   "id": "c433ad63",
   "metadata": {},
   "outputs": [
    {
     "ename": "SyntaxError",
     "evalue": "unterminated string literal (detected at line 1) (940327407.py, line 1)",
     "output_type": "error",
     "traceback": [
      "\u001b[1;36m  Cell \u001b[1;32mIn[28], line 1\u001b[1;36m\u001b[0m\n\u001b[1;33m    text = \"안녕하세요\u001b[0m\n\u001b[1;37m           ^\u001b[0m\n\u001b[1;31mSyntaxError\u001b[0m\u001b[1;31m:\u001b[0m unterminated string literal (detected at line 1)\n"
     ]
    }
   ],
   "source": [
    "text = \"안녕하세요\n",
    "여러 줄의\n",
    "문자열입니다.\"\n",
    "print(text)"
   ]
  },
  {
   "cell_type": "code",
   "execution_count": 23,
   "id": "bc802723-a61c-44f3-b303-fcc95067fb78",
   "metadata": {},
   "outputs": [
    {
     "name": "stdout",
     "output_type": "stream",
     "text": [
      "안녕하세요\n",
      "여러 줄의\n",
      "문자열입니다.\n"
     ]
    }
   ],
   "source": [
    "text = \"\"\"안녕하세요\n",
    "여러 줄의\n",
    "문자열입니다.\"\"\"\n",
    "print(text)"
   ]
  },
  {
   "cell_type": "markdown",
   "id": "3d9fbf82",
   "metadata": {},
   "source": [
    "저렇게 일반 따옴표는 줄바꿈을 인식을 못한다"
   ]
  },
  {
   "cell_type": "markdown",
   "id": "47385baa",
   "metadata": {},
   "source": [
    "## 줄바꿈을 하고 싶을때"
   ]
  },
  {
   "cell_type": "code",
   "execution_count": 42,
   "id": "5e9912c1",
   "metadata": {},
   "outputs": [
    {
     "name": "stdout",
     "output_type": "stream",
     "text": [
      "안녕하세요.\n",
      "저는 안동건입니다.\n",
      "대진대학생입니다.\n",
      "\n",
      "안녕하세요\n",
      "저는 안동건입니다\n",
      "대진대학생입니다\n"
     ]
    }
   ],
   "source": [
    "# 방법 1 == \"\\n\" 쓰기\n",
    "text = \"안녕하세요.\\n저는 안동건입니다.\\n대진대학생입니다.\"\n",
    "print(text,end=\"\\n\\n\")\n",
    "# 방법 2 == 3개 따옴표 사용하기\n",
    "text = \"\"\"안녕하세요\n",
    "저는 안동건입니다\n",
    "대진대학생입니다\"\"\"\n",
    "print(text)"
   ]
  },
  {
   "cell_type": "markdown",
   "id": "6351a26a",
   "metadata": {},
   "source": [
    "## 따옴표를 문자열에 놓고 싶을때"
   ]
  },
  {
   "cell_type": "code",
   "execution_count": 45,
   "id": "60fb5005",
   "metadata": {},
   "outputs": [
    {
     "ename": "SyntaxError",
     "evalue": "unterminated string literal (detected at line 2) (3965089239.py, line 2)",
     "output_type": "error",
     "traceback": [
      "\u001b[1;36m  Cell \u001b[1;32mIn[45], line 2\u001b[1;36m\u001b[0m\n\u001b[1;33m    test = 'I'm ahndonggeon'\u001b[0m\n\u001b[1;37m                           ^\u001b[0m\n\u001b[1;31mSyntaxError\u001b[0m\u001b[1;31m:\u001b[0m unterminated string literal (detected at line 2)\n"
     ]
    }
   ],
   "source": [
    "# 이러면 I 만을 인식한다\n",
    "test = 'I'm ahndonggeon'"
   ]
  },
  {
   "cell_type": "code",
   "execution_count": 46,
   "id": "2b017b01",
   "metadata": {},
   "outputs": [
    {
     "name": "stdout",
     "output_type": "stream",
     "text": [
      "I'm ahndonggeon\n",
      "I'm ahndonggeon\n"
     ]
    }
   ],
   "source": [
    "# 방법 1 == 서로 다른 따옴표 사용하기\n",
    "test = \"I'm ahndonggeon\"\n",
    "print(test)\n",
    "# 방법 2 == 백슬래시(\\)로 이스케이프하기\n",
    "test = 'I\\'m ahndonggeon'\n",
    "print(test)"
   ]
  },
  {
   "cell_type": "markdown",
   "id": "eb13cdff",
   "metadata": {},
   "source": [
    "## 이스케이프 정리\n",
    "이스케이프(escape) 코드란 프로그래밍할 때 사용할 수 있도록 미리 정의해 둔 '문자 조합'"
   ]
  },
  {
   "attachments": {
    "image.png": {
     "image/png": "[encoded data removed]"
    }
   },
   "cell_type": "markdown",
   "id": "c8fe6aaa",
   "metadata": {},
   "source": [
    "![image.png](attachment:image.png)"
   ]
  },
  {
   "cell_type": "markdown",
   "id": "caf2021a",
   "metadata": {},
   "source": [
    "## 문자열 곱하기"
   ]
  },
  {
   "cell_type": "code",
   "execution_count": 48,
   "id": "fb68f567",
   "metadata": {},
   "outputs": [
    {
     "name": "stdout",
     "output_type": "stream",
     "text": [
      "안동건안동건안동건안동건안동건\n"
     ]
    }
   ],
   "source": [
    "text = \"안동건\"\n",
    "print(text*5)"
   ]
  },
  {
   "cell_type": "markdown",
   "id": "ee093698",
   "metadata": {},
   "source": [
    "## 문자열 길이 구하기"
   ]
  },
  {
   "cell_type": "code",
   "execution_count": null,
   "id": "ffd5014f",
   "metadata": {},
   "outputs": [
    {
     "data": {
      "text/plain": [
       "56"
      ]
     },
     "execution_count": 49,
     "metadata": {},
     "output_type": "execute_result"
    },
    {
     "ename": "",
     "evalue": "",
     "output_type": "error",
     "traceback": [
      "\u001b[1;31mThe Kernel crashed while executing code in the current cell or a previous cell. \n",
      "\u001b[1;31mPlease review the code in the cell(s) to identify a possible cause of the failure. \n",
      "\u001b[1;31mClick <a href='https://aka.ms/vscodeJupyterKernelCrash'>here</a> for more info. \n",
      "\u001b[1;31mView Jupyter <a href='command:jupyter.viewOutput'>log</a> for further details."
     ]
    }
   ],
   "source": [
    "text = \"dkfgbvasdjkhfbaskflkajsdbfksbdfklbsedkljfbskdljbfksadbjf\"\n",
    "len(text)"
   ]
  },
  {
   "cell_type": "code",
   "execution_count": null,
   "id": "7ab7c4a1",
   "metadata": {},
   "outputs": [],
   "source": []
  }
 ],
 "metadata": {
  "kernelspec": {
   "display_name": "ahn",
   "language": "python",
   "name": "python3"
  },
  "language_info": {
   "codemirror_mode": {
    "name": "ipython",
    "version": 3
   },
   "file_extension": ".py",
   "mimetype": "text/x-python",
   "name": "python",
   "nbconvert_exporter": "python",
   "pygments_lexer": "ipython3",
   "version": "3.13.1"
  }
 },
 "nbformat": 4,
 "nbformat_minor": 5
}
