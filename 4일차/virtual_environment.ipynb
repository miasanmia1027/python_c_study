{
 "cells": [
  {
   "cell_type": "markdown",
   "id": "943113c3",
   "metadata": {},
   "source": [
    "# 파이썬 가상환경을 사용하는 이유\n",
    "\n",
    "1. **프로젝트 간 의존성 충돌 방지**\n",
    "   - 프로젝트마다 필요한 패키지 버전이 다를 수 있으므로, 가상환경을 통해 독립적으로 관리할 수 있습니다.\n",
    "2. **시스템 전역 환경 오염 방지**\n",
    "   - 전역 환경에 패키지를 설치하면 환경이 복잡해지고, 다른 프로젝트에 영향을 줄 수 있습니다.\n",
    "3. **협업 시 환경 차이로 인한 오류 방지**\n",
    "   - `requirements.txt` 파일과 `pip freeze` 명령어로 동일한 환경을 공유하면, 팀원 간 환경 차이로 인한 오류를 줄일 수 있습니다.\n",
    "4. **파이썬 버전 격리**\n",
    "   - 프로젝트마다 요구하는 파이썬 버전이 다를 수 있어, 가상환경을 통해 버전별로 격리하여 관리할 수 있습니다.\n",
    "\n",
    "# 주요 가상환경 툴과 특징\n",
    "\n",
    "| 도구       | 사용 비율 | 특징 및 장단점                                                                                  |\n",
    "|------------|----------|-----------------------------------------------------------------------------------------------|\n",
    "| venv       | 40%      | 표준 라이브러리, 간단하게 가상환경 생성 및 관리, 자체적으로 파이썬 버전 설치는 불가              |\n",
    "| conda      | 30%      | 데이터 과학/머신러닝에 특화, 패키지 및 파이썬 버전 동시 관리, 자체 패키지 저장소 사용            |\n",
    "| pipenv     | 10%      | 가상환경+패키지 의존성 통합 관리(Pipfile), 한 폴더에 1개 환경만 지원, pyenv와 함께 사용 권장      |\n",
    "| poetry     | 15%      | 강력한 의존성 해결 및 패키징/배포 지원(pyproject.toml), pyenv와 함께 사용 권장                  |\n",
    "| uv         | 5%       | 매우 빠른 패키지 설치 및 가상환경 관리, Rust 기반, 최신 등장                                    |\n",
    "\n"
   ]
  },
  {
   "attachments": {
    "image.png": {
     "image/png": "[encoded data removed]"
    }
   },
   "cell_type": "markdown",
   "id": "208d0619",
   "metadata": {},
   "source": [
    "![image.png](attachment:image.png)"
   ]
  },
  {
   "cell_type": "markdown",
   "id": "b61243c7",
   "metadata": {},
   "source": [
    "\n",
    "## 1. venv (Virtualenv 포함)"
   ]
  },
  {
   "cell_type": "markdown",
   "id": "b6dd19cf",
   "metadata": {},
   "source": [
    "### 단점\n",
    "- venv 자체적으로 파이썬 버전을 설치할 수는 없으며, 시스템에 설치된 특정 버전의 파이썬을 사용해 환경을 생성해야 함"
   ]
  },
  {
   "cell_type": "code",
   "execution_count": null,
   "id": "5abee639",
   "metadata": {},
   "outputs": [],
   "source": [
    "# 가상환경 생성\n",
    "# python -m venv myenv\n",
    "# python<원하는버전> -m venv <가상환경이름>"
   ]
  },
  {
   "cell_type": "code",
   "execution_count": null,
   "id": "8eba33a2",
   "metadata": {},
   "outputs": [],
   "source": [
    "# 가상환경 활성화\n",
    "# Windows\n",
    "# myenv\\Scripts\\activate\n",
    "# macOS/Linux\n",
    "# source myenv/bin/activate"
   ]
  },
  {
   "cell_type": "code",
   "execution_count": null,
   "id": "179a6322",
   "metadata": {},
   "outputs": [],
   "source": [
    "# 가상환경 비활성화\n",
    "# deactivate"
   ]
  },
  {
   "cell_type": "markdown",
   "id": "cf9472a8",
   "metadata": {},
   "source": [
    "## 2. conda"
   ]
  },
  {
   "cell_type": "markdown",
   "id": "370ba9c1",
   "metadata": {},
   "source": [
    "### 단점\n",
    "- Anaconda 또는 가벼운 버전의 Miniconda 설치가 필요함"
   ]
  },
  {
   "cell_type": "code",
   "execution_count": null,
   "id": "b07f5ecd",
   "metadata": {},
   "outputs": [],
   "source": [
    "# 가상환경 생성\n",
    "# conda create -n myenv python=3.9"
   ]
  },
  {
   "cell_type": "code",
   "execution_count": null,
   "id": "f34d2eea",
   "metadata": {},
   "outputs": [],
   "source": [
    "# 가상환경 활성화\n",
    "# conda activate myenv"
   ]
  },
  {
   "cell_type": "code",
   "execution_count": null,
   "id": "2a1c61a4",
   "metadata": {},
   "outputs": [],
   "source": [
    "# 가상환경 비활성화\n",
    "# conda deactivate"
   ]
  },
  {
   "cell_type": "markdown",
   "id": "9900e7f2",
   "metadata": {},
   "source": [
    "## 3. pipenv"
   ]
  },
  {
   "cell_type": "markdown",
   "id": "95a115f9",
   "metadata": {},
   "source": [
    "### 단점\n",
    "- Windows에서 사용자 이름이 한글일 경우 일부 패키지 설치 시 인코딩 오류가 발생할 수 있음\n",
    "- 한 폴더에 여러 환경 사용 불가\n",
    "- 삭제 시 `pipenv --rm` 후 폴더 직접 삭제 필요"
   ]
  },
  {
   "cell_type": "code",
   "execution_count": null,
   "id": "057fd0f5",
   "metadata": {},
   "outputs": [],
   "source": [
    "# pipenv 설치\n",
    "# pip install pipenv"
   ]
  },
  {
   "cell_type": "code",
   "execution_count": null,
   "id": "1b840706",
   "metadata": {},
   "outputs": [],
   "source": [
    "# 가상환경 생성 (pyenv와 함께 사용하는 것을 권장)\n",
    "# pipenv install\n",
    "# pipenv install --python 3.9"
   ]
  },
  {
   "cell_type": "code",
   "execution_count": null,
   "id": "d04bb0c8",
   "metadata": {},
   "outputs": [],
   "source": [
    "# 가상환경 진입\n",
    "# pipenv shell"
   ]
  },
  {
   "cell_type": "code",
   "execution_count": null,
   "id": "897fc2d0",
   "metadata": {},
   "outputs": [],
   "source": [
    "# 가상환경 종료\n",
    "# exit"
   ]
  },
  {
   "cell_type": "markdown",
   "id": "da106fad",
   "metadata": {},
   "source": [
    "## 4. poetry"
   ]
  },
  {
   "cell_type": "markdown",
   "id": "fe1ee928",
   "metadata": {},
   "source": [
    "### 장점\n",
    "- 강력한 의존성 해결(Dependency Resolution) 기능\n",
    "- 패키징 및 배포(Packaging/Publishing) 기능 통합 지원\n",
    "\n",
    "### 단점\n",
    "- `requirements.txt`를 직접 사용하지 않지만, `export` 명령어로 생성은 가능"
   ]
  },
  {
   "cell_type": "code",
   "execution_count": null,
   "id": "389a66b1",
   "metadata": {},
   "outputs": [],
   "source": [
    "# 새 프로젝트 생성 (가상환경 자동 생성)\n",
    "# poetry new myproject\n",
    "# cd myproject"
   ]
  },
  {
   "cell_type": "code",
   "execution_count": null,
   "id": "e9965dfd",
   "metadata": {},
   "outputs": [],
   "source": [
    "# 패키지 추가\n",
    "# poetry add requests"
   ]
  },
  {
   "cell_type": "code",
   "execution_count": null,
   "id": "b9d435f1",
   "metadata": {},
   "outputs": [],
   "source": [
    "# 가상환경 진입\n",
    "# poetry shell"
   ]
  },
  {
   "cell_type": "code",
   "execution_count": null,
   "id": "4f36bb55",
   "metadata": {},
   "outputs": [],
   "source": [
    "# 가상환경 종료\n",
    "# exit"
   ]
  },
  {
   "cell_type": "markdown",
   "id": "eba0c5b7",
   "metadata": {},
   "source": [
    "## 5. uv"
   ]
  },
  {
   "cell_type": "code",
   "execution_count": null,
   "id": "22776ebd",
   "metadata": {},
   "outputs": [],
   "source": [
    "# uv 설치 (최초 1회)\n",
    "# pip install uv"
   ]
  },
  {
   "cell_type": "code",
   "execution_count": null,
   "id": "785619c4",
   "metadata": {},
   "outputs": [],
   "source": [
    "# 가상환경 생성\n",
    "# uv venv myenv\n",
    "# uv venv --python 3.10  # 특정 파이썬 버전 사용 시"
   ]
  },
  {
   "cell_type": "code",
   "execution_count": null,
   "id": "ce71a36f",
   "metadata": {},
   "outputs": [],
   "source": [
    "# 가상환경 활성화\n",
    "# Windows\n",
    "# myenv\\Scripts\\activate\n",
    "# macOS/Linux\n",
    "# source myenv/bin/activate"
   ]
  },
  {
   "cell_type": "code",
   "execution_count": null,
   "id": "1c4e7e8f",
   "metadata": {},
   "outputs": [],
   "source": [
    "# 패키지 설치\n",
    "# uv pip install requests"
   ]
  },
  {
   "cell_type": "code",
   "execution_count": null,
   "id": "dbdc4b03",
   "metadata": {},
   "outputs": [],
   "source": [
    "# 가상환경 비활성화\n",
    "# deactivate"
   ]
  },
  {
   "cell_type": "markdown",
   "id": "d2041e12",
   "metadata": {},
   "source": [
    "## requirements.txt란?\n",
    "\n",
    "- 프로젝트에서 사용하는 패키지 목록과 버전을 기록한 파일입니다.\n",
    "- 협업 시 동일한 환경을 쉽게 재현할 수 있습니다.\n",
    "- 보통 `pip freeze > requirements.txt`로 생성합니다.\n",
    "\n",
    "### 주요 명령어\n",
    "\n",
    "- 패키지 목록 저장  \n",
    "  ```\n",
    "  pip freeze > requirements.txt\n",
    "  ```\n",
    "- requirements.txt로 패키지 일괄 설치  \n",
    "  ```\n",
    "  pip install -r requirements.txt\n",
    "  ```\n",
    "\n",
    "### 예시 (requirements.txt 파일 내용)\n",
    "```\n",
    "numpy==1.24.2\n",
    "pandas>=1.5.0\n",
    "requests\n",
    "```"
   ]
  }
 ],
 "metadata": {
  "kernelspec": {
   "display_name": "Python 3 (ipykernel)",
   "language": "python",
   "name": "python3"
  },
  "language_info": {
   "codemirror_mode": {
    "name": "ipython",
    "version": 3
   },
   "file_extension": ".py",
   "mimetype": "text/x-python",
   "name": "python",
   "nbconvert_exporter": "python",
   "pygments_lexer": "ipython3",
   "version": "3.13.1"
  }
 },
 "nbformat": 4,
 "nbformat_minor": 5
}
