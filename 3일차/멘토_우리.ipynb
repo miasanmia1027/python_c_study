{
 "cells": [
  {
   "cell_type": "markdown",
   "id": "366e6292",
   "metadata": {},
   "source": [
    "# 예시 1. 두 수의 합 구하기\n",
    "두 정수 A와 B가 주어졌을 때, A+B를 출력하는 예시입니다.\n",
    "\n",
    "입력: 1 2  \n",
    "출력: 3"
   ]
  },
  {
   "cell_type": "code",
   "execution_count": null,
   "id": "bc726d76",
   "metadata": {},
   "outputs": [],
   "source": [
    "A, B = map(int, input().split())\n",
    "print(A + B)"
   ]
  },
  {
   "cell_type": "markdown",
   "id": "2d869244",
   "metadata": {},
   "source": [
    "# 예시 2. 최대값 찾기\n",
    "N개의 정수가 주어졌을 때, 그 중 최댓값을 구하는 예시입니다.\n",
    "\n",
    "입력: 1 8 3 2 5  \n",
    "출력: 8"
   ]
  },
  {
   "cell_type": "code",
   "execution_count": null,
   "id": "0f468010",
   "metadata": {},
   "outputs": [],
   "source": [
    "nums = list(map(int, input().split()))\n",
    "print(max(nums))"
   ]
  },
  {
   "cell_type": "markdown",
   "id": "4294f706",
   "metadata": {},
   "source": [
    "# 예시 3. 구구단 출력\n",
    "N이 주어졌을 때, 구구단 N단을 출력하는 예시입니다.\n",
    "\n",
    "입력: 3  \n",
    "출력:  \n",
    "3 * 1 = 3  \n",
    "3 * 2 = 6  \n",
    "...  \n",
    "3 * 9 = 27"
   ]
  },
  {
   "cell_type": "code",
   "execution_count": null,
   "id": "df4f686e",
   "metadata": {},
   "outputs": [],
   "source": [
    "N = int(input())\n",
    "for i in range(1, 10):\n",
    "    print(f\"{N} * {i} = {N*i}\")"
   ]
  },
  {
   "cell_type": "markdown",
   "id": "f8c934a0",
   "metadata": {},
   "source": [
    "# 예시 4. 모듈 사용 예시: math 모듈로 제곱근 구하기\n",
    "파이썬의 math 모듈을 사용하여 입력받은 수의 제곱근을 구하는 예시입니다.\n",
    "\n",
    "입력: 16  \n",
    "출력: 4.0"
   ]
  },
  {
   "cell_type": "code",
   "execution_count": null,
   "id": "802b4872",
   "metadata": {},
   "outputs": [],
   "source": [
    "import math\n",
    "n = int(input())\n",
    "print(math.sqrt(n))"
   ]
  },
  {
   "cell_type": "markdown",
   "id": "69914083",
   "metadata": {},
   "source": [
    "# 문제 1. 짝수/홀수 판별\n",
    "정수를 입력받아 짝수면 \"Even\", 홀수면 \"Odd\"를 출력하는 프로그램을 작성하시오.\n",
    "\n",
    "입력: 7  \n",
    "출력: Odd\n",
    "\n",
    "입력: 10  \n",
    "출력: Even"
   ]
  },
  {
   "cell_type": "code",
   "execution_count": null,
   "id": "06f12c97",
   "metadata": {},
   "outputs": [],
   "source": [
    "n = int(input())\n",
    "if n % 2 == 0:\n",
    "    print(\"Even\")\n",
    "else:\n",
    "    print(\"Odd\")"
   ]
  },
  {
   "cell_type": "markdown",
   "id": "40ec6caa",
   "metadata": {},
   "source": [
    "# 문제 2. 현재 시각 출력\n",
    "파이썬의 time 모듈을 사용하여 현재 시각(시:분:초)을 출력하는 프로그램을 작성하시오.\n",
    "\n",
    "출력 예시:  \n",
    "14:3:5"
   ]
  },
  {
   "cell_type": "code",
   "execution_count": 11,
   "id": "ab41c9da",
   "metadata": {},
   "outputs": [
    {
     "name": "stdout",
     "output_type": "stream",
     "text": [
      "20:20:7\n"
     ]
    }
   ],
   "source": [
    "import time\n",
    "now = time.localtime()\n",
    "print(f\"{now.tm_hour}:{now.tm_min}:{now.tm_sec}\")"
   ]
  },
  {
   "cell_type": "markdown",
   "id": "2cb397b4",
   "metadata": {},
   "source": [
    "# 문제 3. 클래스: 원의 넓이\n",
    "반지름을 입력받아 원의 넓이를 구하는 Circle 클래스를 작성하시오. (파이 값은 3.14 사용)\n",
    "\n",
    "입력: 2  \n",
    "출력: 12.56"
   ]
  },
  {
   "cell_type": "code",
   "execution_count": null,
   "id": "65e7690d",
   "metadata": {},
   "outputs": [
    {
     "name": "stdout",
     "output_type": "stream",
     "text": [
      "12.56\n"
     ]
    }
   ],
   "source": [
    "class Circle:\n",
    "    def __init__(self, r):\n",
    "        self.r = r\n",
    "    def area(self):\n",
    "        return 3.14 * self.r * self.r\n",
    "\n",
    "r = int(input())\n",
    "c = Circle(r)\n",
    "print(c.area())"
   ]
  },
  {
   "cell_type": "markdown",
   "id": "ae9200ab",
   "metadata": {},
   "source": [
    "# 문제 4. 리스트에서 짝수만 출력\n",
    "정수로 이루어진 리스트를 입력받아, 그 중 짝수만 공백으로 구분하여 출력하는 프로그램을 작성하시오.\n",
    "\n",
    "입력 예시: 1 2 3 4 5 6  \n",
    "출력 예시: 2 4 6"
   ]
  },
  {
   "cell_type": "code",
   "execution_count": 15,
   "id": "e32f878f",
   "metadata": {},
   "outputs": [
    {
     "name": "stdout",
     "output_type": "stream",
     "text": [
      "2 6\n"
     ]
    }
   ],
   "source": [
    "lst = list(map(int, input().split()))\n",
    "even_numbers = []\n",
    "for x in lst:\n",
    "    if x % 2 == 0:\n",
    "        even_numbers.append(x)\n",
    "print(*even_numbers)"
   ]
  },
  {
   "cell_type": "markdown",
   "id": "224e715b",
   "metadata": {},
   "source": [
    "# 문제 5. 텍스트 파일에 쓰기\n",
    "사용자로부터 문자열을 입력받아, \"output.txt\"라는 파일에 저장하는 프로그램을 작성하시오.\n",
    "\n",
    "입력: Hello, Python!  \n",
    "(파일 output.txt에 Hello, Python!이 저장됨)"
   ]
  },
  {
   "cell_type": "code",
   "execution_count": 16,
   "id": "3983fa32",
   "metadata": {},
   "outputs": [],
   "source": [
    "text = input()\n",
    "with open(\"output.txt\", \"w\", encoding=\"utf-8\") as f:\n",
    "    f.write(text)"
   ]
  },
  {
   "cell_type": "markdown",
   "id": "2f310830",
   "metadata": {},
   "source": [
    "# 문제 6. 텍스트 파일에서 읽기\n",
    "\"input.txt\" 파일에 여러 줄의 문자열이 저장되어 있다. 이 파일을 읽어서 한 줄씩 출력하는 프로그램을 작성하시오.\n",
    "\n",
    "(예시 input.txt 파일 내용)\n",
    "Hello\n",
    "Python\n",
    "Study\n",
    "\n",
    "출력:  \n",
    "Hello  \n",
    "Python  \n",
    "Study"
   ]
  },
  {
   "cell_type": "code",
   "execution_count": null,
   "id": "3bd909d4",
   "metadata": {},
   "outputs": [
    {
     "name": "stdout",
     "output_type": "stream",
     "text": [
      "lsdnfisdnfui;kdsnf\n"
     ]
    }
   ],
   "source": [
    "with open(\"output.txt\", \"r\", encoding=\"utf-8\") as f:\n",
    "    for line in f:\n",
    "        print(line.strip())"
   ]
  },
  {
   "cell_type": "markdown",
   "id": "ab270cd6",
   "metadata": {},
   "source": [
    "# 문제 7. 이번 달 달력 출력\n",
    "파이썬의 calendar 모듈을 사용하여 이번 달 달력을 출력하는 프로그램을 작성하시오.\n",
    "\n",
    "출력 예시:  \n",
    "     June 2024\n",
    "Mo Tu We Th Fr Sa Su\n",
    "                1  2\n",
    " 3  4  5  6  7  8  9\n",
    "..."
   ]
  },
  {
   "cell_type": "code",
   "execution_count": 1,
   "id": "f3d0f049",
   "metadata": {},
   "outputs": [
    {
     "name": "stdout",
     "output_type": "stream",
     "text": [
      "     July 2025\n",
      "Mo Tu We Th Fr Sa Su\n",
      "    1  2  3  4  5  6\n",
      " 7  8  9 10 11 12 13\n",
      "14 15 16 17 18 19 20\n",
      "21 22 23 24 25 26 27\n",
      "28 29 30 31\n",
      "\n"
     ]
    }
   ],
   "source": [
    "import calendar\n",
    "import datetime\n",
    "now = datetime.datetime.now()\n",
    "print(calendar.month(now.year, now.month))"
   ]
  }
 ],
 "metadata": {
  "kernelspec": {
   "display_name": "ahn",
   "language": "python",
   "name": "python3"
  },
  "language_info": {
   "codemirror_mode": {
    "name": "ipython",
    "version": 3
   },
   "file_extension": ".py",
   "mimetype": "text/x-python",
   "name": "python",
   "nbconvert_exporter": "python",
   "pygments_lexer": "ipython3",
   "version": "3.13.1"
  }
 },
 "nbformat": 4,
 "nbformat_minor": 5
}
